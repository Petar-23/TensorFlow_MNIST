{
 "cells": [
  {
   "cell_type": "markdown",
   "metadata": {},
   "source": [
    "### Step 1: - Data Import"
   ]
  },
  {
   "cell_type": "code",
   "execution_count": 99,
   "metadata": {},
   "outputs": [],
   "source": [
    "# Importing the necesary packages\n",
    "import numpy as np # for easy matrix math function\n",
    "import tensorflow as tf\n",
    "import pandas as pd # for easy data loading\n",
    "import matplotlib.pyplot as plt # to visualize the data\n",
    "from sklearn.preprocessing import LabelEncoder # for one-hot encoding of the input variables\n"
   ]
  },
  {
   "cell_type": "code",
   "execution_count": 65,
   "metadata": {},
   "outputs": [],
   "source": [
    "# Data Import\n",
    "# 1. Download the csv excel files from the follwoing link (Train & Test)\n",
    "# https://pjreddie.com/projects/mnist-in-csv/\n",
    "# 2. Once they are downloaded put them into the same folder as your jupyter notebook\n",
    "train_df = pd.read_csv('mnist_train.csv', sep = ',', header = None)\n",
    "test_df = pd.read_csv('mnist_test.csv', sep = ',', header = None)"
   ]
  },
  {
   "cell_type": "markdown",
   "metadata": {},
   "source": [
    "### Step: 2 - Data Investigation & Vizualization"
   ]
  },
  {
   "cell_type": "code",
   "execution_count": 146,
   "metadata": {},
   "outputs": [
    {
     "data": {
      "text/html": [
       "<div>\n",
       "<style scoped>\n",
       "    .dataframe tbody tr th:only-of-type {\n",
       "        vertical-align: middle;\n",
       "    }\n",
       "\n",
       "    .dataframe tbody tr th {\n",
       "        vertical-align: top;\n",
       "    }\n",
       "\n",
       "    .dataframe thead th {\n",
       "        text-align: right;\n",
       "    }\n",
       "</style>\n",
       "<table border=\"1\" class=\"dataframe\">\n",
       "  <thead>\n",
       "    <tr style=\"text-align: right;\">\n",
       "      <th></th>\n",
       "      <th>0</th>\n",
       "      <th>1</th>\n",
       "      <th>2</th>\n",
       "      <th>3</th>\n",
       "      <th>4</th>\n",
       "      <th>5</th>\n",
       "      <th>6</th>\n",
       "      <th>7</th>\n",
       "      <th>8</th>\n",
       "      <th>9</th>\n",
       "      <th>...</th>\n",
       "      <th>775</th>\n",
       "      <th>776</th>\n",
       "      <th>777</th>\n",
       "      <th>778</th>\n",
       "      <th>779</th>\n",
       "      <th>780</th>\n",
       "      <th>781</th>\n",
       "      <th>782</th>\n",
       "      <th>783</th>\n",
       "      <th>784</th>\n",
       "    </tr>\n",
       "  </thead>\n",
       "  <tbody>\n",
       "    <tr>\n",
       "      <th>0</th>\n",
       "      <td>5</td>\n",
       "      <td>0</td>\n",
       "      <td>0</td>\n",
       "      <td>0</td>\n",
       "      <td>0</td>\n",
       "      <td>0</td>\n",
       "      <td>0</td>\n",
       "      <td>0</td>\n",
       "      <td>0</td>\n",
       "      <td>0</td>\n",
       "      <td>...</td>\n",
       "      <td>0</td>\n",
       "      <td>0</td>\n",
       "      <td>0</td>\n",
       "      <td>0</td>\n",
       "      <td>0</td>\n",
       "      <td>0</td>\n",
       "      <td>0</td>\n",
       "      <td>0</td>\n",
       "      <td>0</td>\n",
       "      <td>0</td>\n",
       "    </tr>\n",
       "    <tr>\n",
       "      <th>1</th>\n",
       "      <td>0</td>\n",
       "      <td>0</td>\n",
       "      <td>0</td>\n",
       "      <td>0</td>\n",
       "      <td>0</td>\n",
       "      <td>0</td>\n",
       "      <td>0</td>\n",
       "      <td>0</td>\n",
       "      <td>0</td>\n",
       "      <td>0</td>\n",
       "      <td>...</td>\n",
       "      <td>0</td>\n",
       "      <td>0</td>\n",
       "      <td>0</td>\n",
       "      <td>0</td>\n",
       "      <td>0</td>\n",
       "      <td>0</td>\n",
       "      <td>0</td>\n",
       "      <td>0</td>\n",
       "      <td>0</td>\n",
       "      <td>0</td>\n",
       "    </tr>\n",
       "    <tr>\n",
       "      <th>2</th>\n",
       "      <td>4</td>\n",
       "      <td>0</td>\n",
       "      <td>0</td>\n",
       "      <td>0</td>\n",
       "      <td>0</td>\n",
       "      <td>0</td>\n",
       "      <td>0</td>\n",
       "      <td>0</td>\n",
       "      <td>0</td>\n",
       "      <td>0</td>\n",
       "      <td>...</td>\n",
       "      <td>0</td>\n",
       "      <td>0</td>\n",
       "      <td>0</td>\n",
       "      <td>0</td>\n",
       "      <td>0</td>\n",
       "      <td>0</td>\n",
       "      <td>0</td>\n",
       "      <td>0</td>\n",
       "      <td>0</td>\n",
       "      <td>0</td>\n",
       "    </tr>\n",
       "    <tr>\n",
       "      <th>3</th>\n",
       "      <td>1</td>\n",
       "      <td>0</td>\n",
       "      <td>0</td>\n",
       "      <td>0</td>\n",
       "      <td>0</td>\n",
       "      <td>0</td>\n",
       "      <td>0</td>\n",
       "      <td>0</td>\n",
       "      <td>0</td>\n",
       "      <td>0</td>\n",
       "      <td>...</td>\n",
       "      <td>0</td>\n",
       "      <td>0</td>\n",
       "      <td>0</td>\n",
       "      <td>0</td>\n",
       "      <td>0</td>\n",
       "      <td>0</td>\n",
       "      <td>0</td>\n",
       "      <td>0</td>\n",
       "      <td>0</td>\n",
       "      <td>0</td>\n",
       "    </tr>\n",
       "    <tr>\n",
       "      <th>4</th>\n",
       "      <td>9</td>\n",
       "      <td>0</td>\n",
       "      <td>0</td>\n",
       "      <td>0</td>\n",
       "      <td>0</td>\n",
       "      <td>0</td>\n",
       "      <td>0</td>\n",
       "      <td>0</td>\n",
       "      <td>0</td>\n",
       "      <td>0</td>\n",
       "      <td>...</td>\n",
       "      <td>0</td>\n",
       "      <td>0</td>\n",
       "      <td>0</td>\n",
       "      <td>0</td>\n",
       "      <td>0</td>\n",
       "      <td>0</td>\n",
       "      <td>0</td>\n",
       "      <td>0</td>\n",
       "      <td>0</td>\n",
       "      <td>0</td>\n",
       "    </tr>\n",
       "  </tbody>\n",
       "</table>\n",
       "<p>5 rows × 785 columns</p>\n",
       "</div>"
      ],
      "text/plain": [
       "   0    1    2    3    4    5    6    7    8    9    ...  775  776  777  778  \\\n",
       "0    5    0    0    0    0    0    0    0    0    0  ...    0    0    0    0   \n",
       "1    0    0    0    0    0    0    0    0    0    0  ...    0    0    0    0   \n",
       "2    4    0    0    0    0    0    0    0    0    0  ...    0    0    0    0   \n",
       "3    1    0    0    0    0    0    0    0    0    0  ...    0    0    0    0   \n",
       "4    9    0    0    0    0    0    0    0    0    0  ...    0    0    0    0   \n",
       "\n",
       "   779  780  781  782  783  784  \n",
       "0    0    0    0    0    0    0  \n",
       "1    0    0    0    0    0    0  \n",
       "2    0    0    0    0    0    0  \n",
       "3    0    0    0    0    0    0  \n",
       "4    0    0    0    0    0    0  \n",
       "\n",
       "[5 rows x 785 columns]"
      ]
     },
     "execution_count": 146,
     "metadata": {},
     "output_type": "execute_result"
    }
   ],
   "source": [
    "# lets take a look at the fist five columns of our train dataframe\n",
    "train_df.head()\n",
    "# What we can see is that reach row contains the greyvalue data for one image (28x28px)"
   ]
  },
  {
   "cell_type": "code",
   "execution_count": 147,
   "metadata": {},
   "outputs": [
    {
     "data": {
      "text/plain": [
       "(60000, 785)"
      ]
     },
     "execution_count": 147,
     "metadata": {},
     "output_type": "execute_result"
    }
   ],
   "source": [
    "# lets take a look at the shape of your train dataframe\n",
    "train_df.shape\n",
    "\n",
    "# we have 60K images (rows) and 785 columns. Notice: the first column is the label (handwritten digit)\n",
    "# In order to train our neural network, we only want to feed-in the pixcel (we have to ignore the first column)"
   ]
  },
  {
   "cell_type": "code",
   "execution_count": 151,
   "metadata": {},
   "outputs": [
    {
     "name": "stdout",
     "output_type": "stream",
     "text": [
      "60000\n",
      "10\n",
      "[[0. 0. 0. ... 0. 0. 0.]\n",
      " [1. 0. 0. ... 0. 0. 0.]\n",
      " [0. 0. 0. ... 0. 0. 0.]\n",
      " ...\n",
      " [0. 0. 0. ... 0. 0. 0.]\n",
      " [0. 0. 0. ... 0. 0. 0.]\n",
      " [0. 0. 0. ... 0. 1. 0.]] (60000, 10)\n",
      "[[0. 0. 0. ... 0. 0. 0.]\n",
      " [1. 0. 0. ... 0. 0. 0.]\n",
      " [0. 0. 0. ... 0. 0. 0.]\n",
      " ...\n",
      " [0. 0. 0. ... 0. 0. 0.]\n",
      " [0. 0. 0. ... 0. 0. 0.]\n",
      " [0. 0. 0. ... 0. 1. 0.]]\n"
     ]
    },
    {
     "data": {
      "text/plain": [
       "<matplotlib.image.AxesImage at 0x2aafe891b70>"
      ]
     },
     "execution_count": 151,
     "metadata": {},
     "output_type": "execute_result"
    },
    {
     "data": {
      "image/png": "[encoded data removed]",
      "text/plain": [
       "<Figure size 432x288 with 1 Axes>"
      ]
     },
     "metadata": {
      "needs_background": "light"
     },
     "output_type": "display_data"
    }
   ],
   "source": [
    "# lets visualize the fist number in our training dataframe\n",
    "# convert to numpy array\n",
    "x_train = train_df.values[:, 1:]\n",
    "# since we use the sigmoid activiation function we need to scale the input values between 0-1\n",
    "x_train = (np.asfarray(x_train/255.0 * 0.99))+0.01 \n",
    "#print(np.amax(x_train))\n",
    "\n",
    "\n",
    "# define and one-hot encode the labels\n",
    "y_label = train_df[train_df.columns[0]]\n",
    "# print(y_label)\n",
    "encoder = LabelEncoder()\n",
    "encoder.fit(y_label)\n",
    "y_label = encoder.transform(y_label)\n",
    "\n",
    "# Define the one-hot encoder\n",
    "def one_hot_encode(labels):\n",
    "    num_of_labels = len(labels)\n",
    "    num_of_unique_labels = len(np.unique(labels))\n",
    "    #print(num_of_labels)\n",
    "    #print(num_of_unique_labels)\n",
    "    one_hot_encode = np.zeros((num_of_labels, num_of_unique_labels))\n",
    "    one_hot_encode[np.arange(num_of_labels), labels] = 1\n",
    "    #print(one_hot_encode, one_hot_encode.shape)\n",
    "    return one_hot_encode\n",
    "\n",
    "y_label = one_hot_encode(y_label)\n",
    "#print(y_label)\n",
    "\n",
    "\n",
    "# Getting a random  row\n",
    "i = np.random.randint(0,784)\n",
    "digit = x[i,:]\n",
    "# reshape into 28x28\n",
    "digit = digit.reshape((28, 28))\n",
    "# print the array\n",
    "plt.imshow(digit, cmap='Greys')\n",
    "# print(digit)\n",
    "\n"
   ]
  },
  {
   "cell_type": "markdown",
   "metadata": {},
   "source": [
    "### Step 3: - Build the Network"
   ]
  },
  {
   "cell_type": "code",
   "execution_count": 160,
   "metadata": {},
   "outputs": [
    {
     "name": "stdout",
     "output_type": "stream",
     "text": [
      "[[  1.3814325    1.3039203    2.5172346  ...  -0.01902454 -10.905815\n",
      "    0.37592757]\n",
      " [ -2.4221542    7.1101584    0.9473903  ...   2.2695153   -7.620405\n",
      "    4.1558037 ]\n",
      " [  0.30827653   0.9976258    0.5695847  ...  -6.4595304  -13.579794\n",
      "   -3.5242183 ]\n",
      " ...\n",
      " [ -4.653295     4.0997243    5.175024   ...  -9.066843   -12.972731\n",
      "   -1.054588  ]\n",
      " [ -3.201003     6.889128     4.834697   ...  -4.467111    -8.716099\n",
      "    3.6026795 ]\n",
      " [ -2.273826     4.5762777    3.2653916  ...  -1.2209953   -8.525089\n",
      "   -2.324253  ]] (?, 10)\n"
     ]
    },
    {
     "data": {
      "image/png": "[encoded data removed]",
      "text/plain": [
       "<Figure size 432x288 with 1 Axes>"
      ]
     },
     "metadata": {
      "needs_background": "light"
     },
     "output_type": "display_data"
    },
    {
     "data": {
      "image/png": "[encoded data removed]",
      "text/plain": [
       "<Figure size 432x288 with 1 Axes>"
      ]
     },
     "metadata": {
      "needs_background": "light"
     },
     "output_type": "display_data"
    }
   ],
   "source": [
    "# First we define our hyperparameters\n",
    "lr = 0.3\n",
    "epochs = 1\n",
    "n_dim = x.shape[1] # number of columns in our training dataset (784)\n",
    "n_class = 10 # since we want to differenciate between 10 digits\n",
    "\n",
    "# Specifiy the number neurons in the hidden layer\n",
    "n_hidden_1 = 100\n",
    "\n",
    "# Definition of the nodes\n",
    "X = tf.placeholder(tf.float32, [None, n_dim]) # This is neuron input vector (784 columns)\n",
    "w = tf.Variable(tf.zeros([n_dim, n_class])) # Weight matrix (784 x 10) as varaible since we want to change them\n",
    "b = tf.Variable(tf.zeros([n_class])) # Biases 10 rows\n",
    "y = tf.placeholder(tf.float32, [None, n_class]) # the vector containing the label (10 columns)\n",
    "\n",
    "# Definition of our model as a python function\n",
    "def my_brain(X, wieghts, biases):\n",
    "    # connection of the input layer with the hidden layer (sigmoid activation function)\n",
    "    out_ih = tf.add(tf.matmul(X, weights['w_ih']),biases['b1'])\n",
    "    out_ih = tf.nn.sigmoid(out_ih)\n",
    "    \n",
    "    # connection of the hidden layer with output layer (sigmoid activation function)\n",
    "    y_pred = tf.add(tf.matmul(out_ih, weights['w_ho']), biases['b2'])\n",
    "    #y_pred = tf.nn.sigmoid(y_pred)\n",
    "    \n",
    "    # return the prediction\n",
    "    return y_pred\n",
    "\n",
    "\n",
    "# Define the weights and biases for every layer\n",
    "weights = {\n",
    "    'w_ih': tf.Variable(tf.random.truncated_normal([n_dim, n_hidden_1])),\n",
    "    'w_ho': tf.Variable(tf.random.truncated_normal([n_hidden_1, n_class]))\n",
    "}\n",
    "\n",
    "biases = {\n",
    "    'b1': tf.Variable(tf.random.truncated_normal([n_hidden_1])),\n",
    "    'b2': tf.Variable(tf.random.truncated_normal([n_class]))\n",
    "}\n",
    "\n",
    "# Creating the initializer Object\n",
    "init = tf.global_variables_initializer()\n",
    "\n",
    "# call our brain\n",
    "y_pred = my_brain(X, weights, biases)\n",
    "\n",
    "# Define the Cost Function and Optimizer\n",
    "cost_function = tf.losses.mean_squared_error(y, y_pred)\n",
    "trainer = tf.train.GradientDescentOptimizer(lr).minimize(cost_function)\n",
    "\n",
    "# Initialize the Variables\n",
    "with tf.Session() as sess:\n",
    "    sess.run(init)\n",
    "\n",
    "    # Training of our model\n",
    "    \n",
    "    accuracy_log = []\n",
    "    cost_log = []\n",
    "\n",
    "    for epoch in range(epochs):\n",
    "        sess.run(trainer,feed_dict = {X: x_train, y: y_label})\n",
    "        cost = sess.run(cost_function, feed_dict = {X: x_train, y: y_label})\n",
    "        cost_log.append(cost)\n",
    "        correct_prediction = tf.equal(tf.argmax(y_pred, 1), tf.argmax(y, 1)) \n",
    "        accuracy = tf.reduce_mean(tf.cast(correct_prediction, tf.float32))\n",
    "        accuracy = sess.run(accuracy, feed_dict = {X: x_train, y: y_label})\n",
    "        accuracy_log.append(accuracy)\n",
    "        print(sess.run(y_pred,feed_dict = {X: x_train, y: y_label}), y_pred.shape)\n",
    "        #print('Epoch: ', epoch, ' - Cost: ', cost, ' - Accuracy: ', accuracy)\n",
    "\n",
    "# Printing the accuracy KPI\n",
    "plt.plot(accuracy_log)\n",
    "plt.ylabel('accuracy')\n",
    "plt.xlabel('epochs')\n",
    "plt.show()\n",
    "\n",
    "# Printing the cost KPI\n",
    "plt.plot(cost_log)\n",
    "plt.ylabel('cost')\n",
    "plt.xlabel('epochs')\n",
    "plt.show()\n",
    "    "
   ]
  },
  {
   "cell_type": "code",
   "execution_count": null,
   "metadata": {},
   "outputs": [],
   "source": []
  }
 ],
 "metadata": {
  "kernelspec": {
   "display_name": "Python 3",
   "language": "python",
   "name": "python3"
  },
  "language_info": {
   "codemirror_mode": {
    "name": "ipython",
    "version": 3
   },
   "file_extension": ".py",
   "mimetype": "text/x-python",
   "name": "python",
   "nbconvert_exporter": "python",
   "pygments_lexer": "ipython3",
   "version": "3.7.3"
  }
 },
 "nbformat": 4,
 "nbformat_minor": 2
}
